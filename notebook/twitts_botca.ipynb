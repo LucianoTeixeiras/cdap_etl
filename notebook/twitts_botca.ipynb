{
 "cells": [
  {
   "cell_type": "markdown",
   "metadata": {
    "id": "pPMoXVXfFFNG"
   },
   "source": [
    "## Instalando e Importando algumas bibliotecas"
   ]
  },
  {
   "cell_type": "code",
   "execution_count": null,
   "metadata": {
    "id": "nqxRN1MVFFNG"
   },
   "outputs": [],
   "source": [
    "# Instala o pacote tweepy e pymongo\n",
    "!pip install tweepy pymongo"
   ]
  },
  {
   "cell_type": "code",
   "execution_count": null,
   "metadata": {
    "id": "xfSluzJAFFNP"
   },
   "outputs": [],
   "source": [
    "# Importando os módulos Tweepy, Datetime e Json\n",
    "from tweepy.streaming import StreamListener\n",
    "from tweepy import OAuthHandler\n",
    "from tweepy import Stream\n",
    "from datetime import datetime\n",
    "import json"
   ]
  },
  {
   "cell_type": "markdown",
   "metadata": {
    "id": "yb2FNMlQFFNS"
   },
   "source": [
    "## Conectando na API do Twitter"
   ]
  },
  {
   "cell_type": "code",
   "execution_count": null,
   "metadata": {
    "id": "QWzHeUHgFFNT"
   },
   "outputs": [],
   "source": [
    "# Adicione aqui sua Consumer Key\n",
    "consumer_key = \"NrpJxCRklgbJjW2N4IgNEpRKW\""
   ]
  },
  {
   "cell_type": "code",
   "execution_count": null,
   "metadata": {
    "id": "kP54dVteFFNV"
   },
   "outputs": [],
   "source": [
    "# Adicione aqui sua Consumer Secret \n",
    "consumer_secret = \"lQ3n7joXCSdVqjWAT0LsA0RjQCZpbqL7wjZxncCJW3afw5og3s\""
   ]
  },
  {
   "cell_type": "code",
   "execution_count": null,
   "metadata": {
    "id": "A0ir7V9MFFNY"
   },
   "outputs": [],
   "source": [
    "# Adicione aqui seu Access Token\n",
    "access_token = \"1083158543967158272-YeGirzCjTtECUz2s5nUKQzy7kRTj9A\""
   ]
  },
  {
   "cell_type": "code",
   "execution_count": null,
   "metadata": {
    "id": "5b9JeptCFFNe"
   },
   "outputs": [],
   "source": [
    "# Adicione aqui seu Access Token Secret\n",
    "access_token_secret = \"KHo7aE9zAIzY4JcM7cX9jiyvGelmbK0sBCezgdY9scXXL\""
   ]
  },
  {
   "cell_type": "code",
   "execution_count": null,
   "metadata": {
    "id": "W9nelCvbFFNh"
   },
   "outputs": [],
   "source": [
    "# Criando as chaves de autenticação\n",
    "auth = OAuthHandler(consumer_key, consumer_secret)"
   ]
  },
  {
   "cell_type": "code",
   "execution_count": null,
   "metadata": {
    "id": "Co07osRCFFNk"
   },
   "outputs": [],
   "source": [
    "auth.set_access_token(access_token, access_token_secret)"
   ]
  },
  {
   "cell_type": "code",
   "execution_count": null,
   "metadata": {
    "id": "RbgVaXNyFFNm"
   },
   "outputs": [],
   "source": [
    "# Criando uma classe para capturar os stream de dados do Twitter e \n",
    "# armazenar no MongoDB\n",
    "class MyListener(StreamListener):\n",
    "    def on_data(self, dados):\n",
    "        tweet = json.loads(dados)\n",
    "        created_at = tweet[\"created_at\"]\n",
    "        id_str = tweet[\"id_str\"]\n",
    "        user = tweet[\"user\"]\n",
    "        text = tweet[\"text\"]\n",
    "        obj = {\"created_at\":created_at,\"id_str\":id_str,\"user\":user,\"text\":text,}\n",
    "        tweetind = col.insert_one(obj).inserted_id\n",
    "        print (obj)\n",
    "        return True"
   ]
  },
  {
   "cell_type": "code",
   "execution_count": null,
   "metadata": {
    "id": "g4BcRtnbFFNq"
   },
   "outputs": [],
   "source": [
    "# Criando o objeto mylistener\n",
    "mylistener = MyListener()"
   ]
  },
  {
   "cell_type": "code",
   "execution_count": null,
   "metadata": {
    "id": "srV_SCxiFFNw"
   },
   "outputs": [],
   "source": [
    "# Criando o objeto mystream\n",
    "mystream = Stream(auth, listener = mylistener)"
   ]
  },
  {
   "cell_type": "markdown",
   "metadata": {
    "id": "i1qIe1TxFFNz"
   },
   "source": [
    "## Preparando a Conexão com o MongoDB"
   ]
  },
  {
   "cell_type": "code",
   "execution_count": null,
   "metadata": {
    "id": "vJGixTrjFFNz"
   },
   "outputs": [],
   "source": [
    "# Importando do PyMongo o módulo MongoClient\n",
    "from pymongo import MongoClient   "
   ]
  },
  {
   "cell_type": "code",
   "execution_count": null,
   "metadata": {
    "id": "ZNiYOD0yFFN2"
   },
   "outputs": [],
   "source": [
    "# Criando a conexão ao MongoDB\n",
    "client = MongoClient('localhost', 27017)"
   ]
  },
  {
   "cell_type": "code",
   "execution_count": null,
   "metadata": {
    "id": "W1cFCcBoFFN5"
   },
   "outputs": [],
   "source": [
    "# Criando o banco de dados twitterdb\n",
    "db = client.twitter_botica"
   ]
  },
  {
   "cell_type": "code",
   "execution_count": null,
   "metadata": {
    "id": "fcJiMWzAFFOB"
   },
   "outputs": [],
   "source": [
    "# Criando a collection \"col\"\n",
    "col = db.tweets "
   ]
  },
  {
   "cell_type": "code",
   "execution_count": null,
   "metadata": {
    "id": "SKJGVtLFFFOE"
   },
   "outputs": [],
   "source": [
    "# Criando uma lista de palavras chave para buscar nos Tweets\n",
    "keywords = ['Boticário', 'PERFUMARIA']"
   ]
  },
  {
   "cell_type": "markdown",
   "metadata": {
    "id": "fRHbx4R-FFOH"
   },
   "source": [
    "## Coletando os Tweets"
   ]
  },
  {
   "cell_type": "code",
   "execution_count": null,
   "metadata": {
    "id": "VNRSdkjwFFOH",
    "outputId": "ab2ced50-73f8-49fb-9b40-41c656225b72"
   },
   "outputs": [],
   "source": [
    "# Iniciando o filtro e gravando os tweets no MongoDB\n",
    "mystream.filter(track=keywords).length(50)"
   ]
  },
  {
   "cell_type": "markdown",
   "metadata": {
    "id": "SfdtkibUFFOR"
   },
   "source": [
    "## Consultando os Dados no MongoDB"
   ]
  },
  {
   "cell_type": "code",
   "execution_count": null,
   "metadata": {
    "id": "LmE4d3r6FFOS"
   },
   "outputs": [],
   "source": [
    "mystream.disconnect()"
   ]
  },
  {
   "cell_type": "code",
   "execution_count": null,
   "metadata": {
    "id": "B5kmbKqgFFOU",
    "outputId": "d13165e9-dda2-4fc7-af02-7c9c07472bf6"
   },
   "outputs": [],
   "source": [
    "# Verificando um documento no collection\n",
    "col.find_one()"
   ]
  }
 ],
 "metadata": {
  "colab": {
   "name": "DSA-Python-Cap06-09-Stream de Dados do Twitter com MongoDB, Pandas e Scikit Learn.ipynb",
   "provenance": []
  },
  "kernelspec": {
   "display_name": "Python 3",
   "language": "python",
   "name": "python3"
  },
  "language_info": {
   "codemirror_mode": {
    "name": "ipython",
    "version": 3
   },
   "file_extension": ".py",
   "mimetype": "text/x-python",
   "name": "python",
   "nbconvert_exporter": "python",
   "pygments_lexer": "ipython3",
   "version": "3.7.9"
  }
 },
 "nbformat": 4,
 "nbformat_minor": 4
}
